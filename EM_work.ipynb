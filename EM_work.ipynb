{
 "cells": [
  {
   "cell_type": "code",
   "execution_count": 1,
   "id": "b8c58a6a-88ca-49c2-aef8-f797269b0a82",
   "metadata": {},
   "outputs": [],
   "source": [
    "import seaborn as sns\n",
    "import matplotlib.pyplot as plt\n",
    "import json\n",
    "import pandas as pd\n",
    "import numpy as np\n",
    "import os\n",
    "from string import ascii_letters"
   ]
  },
  {
   "cell_type": "code",
   "execution_count": 2,
   "id": "d206b99c-def1-469e-adbf-b43251a5fc38",
   "metadata": {},
   "outputs": [],
   "source": [
    "import sys\n",
    "sys.path.insert(0, './src')\n",
    "from pso import PSOFeatureSelection\n",
    "from sa import SimulatedAnnealing\n",
    "from utils import OptimizationAlgorithm\n",
    "from metrics import Metrics, SammonError, KruskalStress, EditDistance\n",
    "from tqdm import tqdm, trange\n",
    "import numpy as np\n",
    "import pandas as pd\n",
    "import datetime\n",
    "\n",
    "import argparse\n",
    "import yaml\n",
    "from main import run_analysis, get_data_i\n",
    "from utils import SubsetterArgparser\n",
    "from utils import load_metrics_file\n",
    "from typing import List, Tuple\n",
    "\n",
    "import torch\n",
    "import pickle\n",
    "import gc\n",
    "import os\n",
    "\n",
    "from icecream import install\n",
    "\n",
    "install()"
   ]
  },
  {
   "cell_type": "code",
   "execution_count": 3,
   "id": "9186abce-ad34-459b-9eba-80643a0e52a7",
   "metadata": {},
   "outputs": [],
   "source": [
    "data_path = os.path.join(\"data\", \"function_metrics.csv\")\n",
    "data, indices_size_descending = load_metrics_file(data_path)\n",
    "device = torch.device('cuda')"
   ]
  },
  {
   "cell_type": "code",
   "execution_count": 4,
   "id": "176a3eae-41ff-45bd-aae8-b14a610ea95c",
   "metadata": {},
   "outputs": [],
   "source": [
    "repo_index = 50"
   ]
  },
  {
   "cell_type": "code",
   "execution_count": 5,
   "id": "bf563f36-aa84-4435-8669-e30d53a5f20c",
   "metadata": {},
   "outputs": [],
   "source": [
    "index = indices_size_descending[repo_index]\n",
    "repo_data = get_data_i(data, index, 'function')\n",
    "repo_data = repo_data.to(device)"
   ]
  },
  {
   "cell_type": "code",
   "execution_count": 6,
   "id": "e7bf2ada-f34f-4518-83c3-1987bfa32392",
   "metadata": {},
   "outputs": [
    {
     "data": {
      "text/plain": [
       "torch.Size([5133, 69])"
      ]
     },
     "execution_count": 6,
     "metadata": {},
     "output_type": "execute_result"
    }
   ],
   "source": [
    "repo_data.shape"
   ]
  },
  {
   "cell_type": "code",
   "execution_count": 7,
   "id": "a2cc15a2-75fb-47a1-8abe-9d62fe8ad186",
   "metadata": {},
   "outputs": [],
   "source": [
    "K = 20\n",
    "subset_size = 5\n",
    "\n",
    "# Generate K unique random column indices\n",
    "torch.manual_seed(43)\n",
    "column_indices = torch.randperm(repo_data.shape[1])[:K]\n",
    "\n",
    "# Select the K columns from the tensor\n",
    "subset_repo = repo_data[:, column_indices]"
   ]
  },
  {
   "cell_type": "code",
   "execution_count": 8,
   "id": "75fbb55c-61b5-466a-8221-aab76ab51a3e",
   "metadata": {},
   "outputs": [
    {
     "data": {
      "text/plain": [
       "torch.Size([5133, 20])"
      ]
     },
     "execution_count": 8,
     "metadata": {},
     "output_type": "execute_result"
    }
   ],
   "source": [
    "subset_repo.shape"
   ]
  },
  {
   "cell_type": "markdown",
   "id": "59ff6102-8740-41ad-9bd5-59b955955b81",
   "metadata": {},
   "source": [
    "## Enumerate all subsets to find best"
   ]
  },
  {
   "cell_type": "code",
   "execution_count": 26,
   "id": "d444af66",
   "metadata": {},
   "outputs": [
    {
     "data": {
      "text/plain": [
       "tensor([1., 0., 1., 1., 1.])"
      ]
     },
     "execution_count": 26,
     "metadata": {},
     "output_type": "execute_result"
    }
   ],
   "source": [
    "z = torch.zeros(5)\n",
    "z[torch.tensor([1, 0, 1, 1, 1], dtype=bool)] = 1\n",
    "z"
   ]
  },
  {
   "cell_type": "code",
   "execution_count": 16,
   "id": "1617d4c0-16c0-4fb3-8cea-1b925538c50f",
   "metadata": {},
   "outputs": [
    {
     "name": "stderr",
     "output_type": "stream",
     "text": [
      "ic| mask_tensor: tensor([ True,  True,  True,  True,  True, False, False, False, False, False,\n",
      "                         False, False, False, False, False, False, False, False, False, False],\n",
      "                        device='cuda:0')\n"
     ]
    },
    {
     "name": "stderr",
     "output_type": "stream",
     "text": [
      "ic| mask: tensor([1., 1., 1., 1., 1., 0., 0., 0., 0., 0., 0., 0., 0., 0., 0., 0., 0., 0.,\n",
      "                  0., 0.], device='cuda:0')\n",
      "ic| X_masked: tensor([[0.1627, 0.4747, 0.8382, 0.1235, 0.8998, 0.0000, 0.0000, 0.0000, 0.0000,\n",
      "                       0.0000, 0.0000, 0.0000, 0.0000, 0.0000, 0.0000, 0.0000, 0.0000, 0.0000,\n",
      "                       0.0000, 0.0000],\n",
      "                      [0.6162, 0.1513, 0.3778, 0.2811, 0.1094, 0.0000, 0.0000, 0.0000, 0.0000,\n",
      "                       0.0000, 0.0000, 0.0000, 0.0000, 0.0000, 0.0000, 0.0000, 0.0000, 0.0000,\n",
      "                       0.0000, 0.0000],\n",
      "                      [0.0966, 0.0022, 0.6156, 0.3085, 0.2219, 0.0000, 0.0000, 0.0000, 0.0000,\n",
      "                       0.0000, 0.0000, 0.0000, 0.0000, 0.0000, 0.0000, 0.0000, 0.0000, 0.0000,\n",
      "                       0.0000, 0.0000]], device='cuda:0')\n"
     ]
    }
   ],
   "source": [
    "import itertools\n",
    "from metrics import SammonError\n",
    "\n",
    "sammon = SammonError(subset_repo)\n",
    "\n",
    "subset_to_loss = []\n",
    "X = torch.rand((3, 20), device='cuda')\n",
    "\n",
    "for subset in itertools.combinations(list(range(K)), subset_size):\n",
    "    # Create a binary mask tensor for the current subset\n",
    "    mask_tensor = torch.zeros(K, dtype=torch.bool, device='cuda')\n",
    "    mask_tensor[[idx for idx in subset]] = 1\n",
    "    # loss = sammon.compute(mask_tensor)\n",
    "    mask = torch.zeros(20, device='cuda')\n",
    "    ic(mask_tensor)\n",
    "    mask[mask_tensor] = 1\n",
    "    ic(mask)\n",
    "    # mask deselected to 0\n",
    "    X_masked = X * mask\n",
    "    ic(X_masked)\n",
    "    # loss = sammon.compute(list(subset))\n",
    "    # subset_to_loss.append((list(subset), loss))\n",
    "    break\n",
    "\n",
    "# subset_to_loss.sort(key=lambda x: x[1].item())"
   ]
  },
  {
   "cell_type": "code",
   "execution_count": 12,
   "id": "f9d6b10c-11f2-41aa-b8ed-82f777ed6558",
   "metadata": {},
   "outputs": [
    {
     "data": {
      "text/plain": [
       "[([2, 4, 14, 16, 19], tensor(0.1244, device='cuda:0')),\n",
       " ([2, 4, 15, 16, 19], tensor(0.1304, device='cuda:0')),\n",
       " ([4, 10, 14, 16, 19], tensor(0.1317, device='cuda:0')),\n",
       " ([0, 4, 14, 16, 19], tensor(0.1320, device='cuda:0')),\n",
       " ([2, 4, 10, 16, 19], tensor(0.1343, device='cuda:0')),\n",
       " ([2, 10, 14, 16, 19], tensor(0.1346, device='cuda:0')),\n",
       " ([0, 2, 14, 16, 19], tensor(0.1346, device='cuda:0')),\n",
       " ([4, 6, 14, 16, 19], tensor(0.1349, device='cuda:0')),\n",
       " ([2, 9, 14, 16, 19], tensor(0.1365, device='cuda:0')),\n",
       " ([4, 9, 14, 16, 19], tensor(0.1374, device='cuda:0')),\n",
       " ([2, 6, 14, 16, 19], tensor(0.1374, device='cuda:0')),\n",
       " ([2, 10, 15, 16, 19], tensor(0.1395, device='cuda:0')),\n",
       " ([0, 2, 15, 16, 19], tensor(0.1401, device='cuda:0')),\n",
       " ([4, 10, 15, 16, 19], tensor(0.1402, device='cuda:0')),\n",
       " ([0, 2, 4, 16, 19], tensor(0.1406, device='cuda:0')),\n",
       " ([0, 4, 15, 16, 19], tensor(0.1413, device='cuda:0')),\n",
       " ([2, 14, 16, 17, 19], tensor(0.1416, device='cuda:0')),\n",
       " ([2, 9, 15, 16, 19], tensor(0.1425, device='cuda:0')),\n",
       " ([4, 14, 16, 18, 19], tensor(0.1425, device='cuda:0')),\n",
       " ([2, 6, 15, 16, 19], tensor(0.1432, device='cuda:0'))]"
      ]
     },
     "execution_count": 12,
     "metadata": {},
     "output_type": "execute_result"
    }
   ],
   "source": [
    "subset_to_loss[:20]"
   ]
  },
  {
   "cell_type": "code",
   "execution_count": 27,
   "id": "f5d83864-7476-4399-a8d7-fd43afdd76e3",
   "metadata": {},
   "outputs": [
    {
     "name": "stderr",
     "output_type": "stream",
     "text": [
      "  0%|                                                      | 0/1 [02:13<?, ?it/s, N_metrics: 5; Run: 3/3; Opt: 0.121733]\n",
      "  0%|                                                      | 0/1 [00:01<?, ?it/s, N_metrics: 5; Run: 3/3; Opt: 0.170179]"
     ]
    }
   ],
   "source": [
    "from src.main import run_analysis\n",
    "pbar = trange(0, 1)\n",
    "selected_metrics_arr, optimums_arr = run_analysis(\n",
    "    subset_repo,\n",
    "    pbar,\n",
    "    metric_subset_size=subset_size,\n",
    "    error_function=SammonError,\n",
    "    method=PSOFeatureSelection,\n",
    "    seed=42,\n",
    "    max_iter=10,\n",
    "    n_runs=3,\n",
    "    num_particles=10,\n",
    ")"
   ]
  },
  {
   "cell_type": "code",
   "execution_count": 28,
   "id": "a63c0126-1a28-4199-8bde-704d6ef528bf",
   "metadata": {},
   "outputs": [
    {
     "data": {
      "text/plain": [
       "[0.21147753298282623, 0.17017912864685059, 0.15015943348407745]"
      ]
     },
     "execution_count": 28,
     "metadata": {},
     "output_type": "execute_result"
    }
   ],
   "source": [
    "optimums_arr"
   ]
  },
  {
   "cell_type": "code",
   "execution_count": 29,
   "id": "9187ce5b-e8a9-4ac1-a79c-1d296d87ba4a",
   "metadata": {},
   "outputs": [
    {
     "name": "stderr",
     "output_type": "stream",
     "text": [
      "\n",
      "  0%|                                                      | 0/1 [00:01<?, ?it/s, N_metrics: 5; Run: 3/3; Opt: 0.170179]\u001b[A\n",
      "\n",
      "  0%|                                                                    | 0/1 [00:00<?, ?it/s, N_metrics: 5; Run: 1/3;]\u001b[A\n",
      "  0%|                                                      | 0/1 [00:00<?, ?it/s, N_metrics: 5; Run: 2/3; Opt: 0.181486]\u001b[A\n",
      "  0%|                                                      | 0/1 [00:01<?, ?it/s, N_metrics: 5; Run: 3/3; Opt: 0.142484]\u001b[A"
     ]
    }
   ],
   "source": [
    "from src.main import run_analysis\n",
    "pbar = trange(0, 1)\n",
    "selected_metrics_arr, optimums_arr = run_analysis(\n",
    "    subset_repo,\n",
    "    pbar,\n",
    "    metric_subset_size=subset_size,\n",
    "    error_function=SammonError,\n",
    "    method=PSOFeatureSelection,\n",
    "    seed=42,\n",
    "    max_iter=10,\n",
    "    n_runs=3,\n",
    "    num_particles=10,\n",
    "    selection_function='topk-small',\n",
    ")"
   ]
  },
  {
   "cell_type": "code",
   "execution_count": 30,
   "id": "5b98945d-aeb1-4780-8dce-df7a507d13fb",
   "metadata": {},
   "outputs": [
    {
     "data": {
      "text/plain": [
       "[0.1814861297607422, 0.14248375594615936, 0.15150271356105804]"
      ]
     },
     "execution_count": 30,
     "metadata": {},
     "output_type": "execute_result"
    }
   ],
   "source": [
    "optimums_arr"
   ]
  },
  {
   "cell_type": "code",
   "execution_count": 31,
   "id": "80c1a5a2-fe2d-4250-8a48-e552455656b6",
   "metadata": {},
   "outputs": [
    {
     "name": "stderr",
     "output_type": "stream",
     "text": [
      "  0%|                                                      | 0/1 [00:01<?, ?it/s, N_metrics: 5; Run: 3/3; Opt: 0.142484]\n",
      "  0%|                                                      | 0/1 [00:01<?, ?it/s, N_metrics: 5; Run: 3/3; Opt: 0.186431]"
     ]
    }
   ],
   "source": [
    "from src.main import run_analysis\n",
    "pbar = trange(0, 1)\n",
    "selected_metrics_arr, optimums_arr = run_analysis(\n",
    "    subset_repo,\n",
    "    pbar,\n",
    "    metric_subset_size=subset_size,\n",
    "    error_function=SammonError,\n",
    "    method=PSOFeatureSelection,\n",
    "    seed=42,\n",
    "    max_iter=10,\n",
    "    n_runs=3,\n",
    "    num_particles=10,\n",
    "    selection_function='rand',\n",
    ")"
   ]
  },
  {
   "cell_type": "code",
   "execution_count": 32,
   "id": "9b360c66-0a08-4325-b730-d7fc77624233",
   "metadata": {},
   "outputs": [
    {
     "data": {
      "text/plain": [
       "[0.1884726881980896, 0.1864311397075653, 0.190450519323349]"
      ]
     },
     "execution_count": 32,
     "metadata": {},
     "output_type": "execute_result"
    }
   ],
   "source": [
    "optimums_arr"
   ]
  },
  {
   "cell_type": "code",
   "execution_count": 13,
   "id": "3d8749a6-effa-4aea-bbec-3cec383c176e",
   "metadata": {},
   "outputs": [
    {
     "data": {
      "text/plain": [
       "[[[0.6277675628662109,\n",
       "   0.3613280951976776,\n",
       "   0.7820790410041809,\n",
       "   0.7051138877868652,\n",
       "   0.3471134305000305,\n",
       "   0.4170715808868408,\n",
       "   1.1624526977539062,\n",
       "   0.7161104679107666,\n",
       "   0.9573154449462891,\n",
       "   0.5850797891616821,\n",
       "   0.7505536079406738,\n",
       "   0.37281668186187744,\n",
       "   0.4622475206851959,\n",
       "   0.1166602373123169,\n",
       "   0.4569224715232849],\n",
       "  [0.7954239845275879,\n",
       "   0.3523367941379547,\n",
       "   1.3883907794952393,\n",
       "   0.14424923062324524,\n",
       "   0.02078908681869507,\n",
       "   0.393947958946228,\n",
       "   0.566846489906311,\n",
       "   0.7683454751968384,\n",
       "   0.35238927602767944,\n",
       "   0.3195575475692749,\n",
       "   0.6609660387039185,\n",
       "   0.532672107219696,\n",
       "   1.0118502378463745,\n",
       "   0.7494090795516968,\n",
       "   0.8064063787460327],\n",
       "  [-0.03348433971405029,\n",
       "   0.32701823115348816,\n",
       "   0.9217746257781982,\n",
       "   0.2141723930835724,\n",
       "   0.08300352096557617,\n",
       "   0.5461053848266602,\n",
       "   0.6119529008865356,\n",
       "   0.2175091952085495,\n",
       "   0.14072826504707336,\n",
       "   0.75847989320755,\n",
       "   0.08367013931274414,\n",
       "   0.46088171005249023,\n",
       "   0.7224437594413757,\n",
       "   0.2255459725856781,\n",
       "   1.2607440948486328],\n",
       "  [0.6068025231361389,\n",
       "   -0.12197345495223999,\n",
       "   1.2693400382995605,\n",
       "   0.3379136323928833,\n",
       "   0.6721475124359131,\n",
       "   1.4798885583877563,\n",
       "   -0.12219568341970444,\n",
       "   1.0268006324768066,\n",
       "   0.8468974828720093,\n",
       "   1.0055811405181885,\n",
       "   1.4955425262451172,\n",
       "   0.7065442204475403,\n",
       "   0.46863770484924316,\n",
       "   0.4534112811088562,\n",
       "   -0.41193845868110657],\n",
       "  [0.44693028926849365,\n",
       "   0.49137845635414124,\n",
       "   0.368732750415802,\n",
       "   0.7810719013214111,\n",
       "   0.22978687286376953,\n",
       "   -0.018701910972595215,\n",
       "   0.5893125534057617,\n",
       "   0.6755638122558594,\n",
       "   0.6584386825561523,\n",
       "   0.24880623817443848,\n",
       "   0.5746992230415344,\n",
       "   0.6315494179725647,\n",
       "   -0.05702924728393555,\n",
       "   0.16102498769760132,\n",
       "   0.3428484797477722]],\n",
       " [[-0.23993676900863647,\n",
       "   1.6429131031036377,\n",
       "   -0.25549405813217163,\n",
       "   0.9486978054046631,\n",
       "   0.8885194063186646,\n",
       "   0.5961328148841858,\n",
       "   0.13247016072273254,\n",
       "   0.5511302351951599,\n",
       "   1.7330985069274902,\n",
       "   0.841536283493042,\n",
       "   -0.5509395003318787,\n",
       "   0.5114264488220215,\n",
       "   1.461838722229004,\n",
       "   1.06393301486969,\n",
       "   0.1776498556137085],\n",
       "  [0.10645737498998642,\n",
       "   1.0550031661987305,\n",
       "   0.050170570611953735,\n",
       "   0.6229535937309265,\n",
       "   0.718820333480835,\n",
       "   0.37834274768829346,\n",
       "   0.15155266225337982,\n",
       "   0.2853088974952698,\n",
       "   1.206115961074829,\n",
       "   0.8410967588424683,\n",
       "   -0.1643916666507721,\n",
       "   0.6991982460021973,\n",
       "   0.9755780696868896,\n",
       "   0.929716169834137,\n",
       "   0.3863663375377655],\n",
       "  [0.09061899781227112,\n",
       "   0.9942870140075684,\n",
       "   0.14126530289649963,\n",
       "   0.6582478284835815,\n",
       "   0.6016323566436768,\n",
       "   0.4527739882469177,\n",
       "   0.21171632409095764,\n",
       "   0.44703662395477295,\n",
       "   1.096626877784729,\n",
       "   0.7393082976341248,\n",
       "   -0.03501500189304352,\n",
       "   0.6700359582901001,\n",
       "   0.7599714994430542,\n",
       "   0.8007690906524658,\n",
       "   0.45301470160484314],\n",
       "  [0.12009537220001221,\n",
       "   1.0140451192855835,\n",
       "   0.12512528896331787,\n",
       "   0.6403967142105103,\n",
       "   0.6093813180923462,\n",
       "   0.41922634840011597,\n",
       "   0.16390542685985565,\n",
       "   0.46204984188079834,\n",
       "   1.0185154676437378,\n",
       "   0.7758829593658447,\n",
       "   0.08627551794052124,\n",
       "   0.5088760256767273,\n",
       "   0.7497124075889587,\n",
       "   0.8086926937103271,\n",
       "   0.39800411462783813],\n",
       "  [-0.3765895366668701,\n",
       "   1.6766144037246704,\n",
       "   -0.4894416332244873,\n",
       "   1.0064802169799805,\n",
       "   1.0969264507293701,\n",
       "   0.6876218914985657,\n",
       "   -0.25839829444885254,\n",
       "   0.663894534111023,\n",
       "   1.5592219829559326,\n",
       "   1.0352623462677002,\n",
       "   -0.34927403926849365,\n",
       "   0.9081824421882629,\n",
       "   0.9037001132965088,\n",
       "   0.6038588881492615,\n",
       "   0.39390748739242554]],\n",
       " [[1.4443291425704956,\n",
       "   0.06620331853628159,\n",
       "   0.626072347164154,\n",
       "   0.7624943256378174,\n",
       "   0.05014222860336304,\n",
       "   1.679065227508545,\n",
       "   2.0262086391448975,\n",
       "   -0.09872019290924072,\n",
       "   0.2675136923789978,\n",
       "   -0.7008180618286133,\n",
       "   -0.7348158359527588,\n",
       "   0.3487759828567505,\n",
       "   0.4417319893836975,\n",
       "   1.0403739213943481,\n",
       "   -0.13917437195777893],\n",
       "  [1.4083261489868164,\n",
       "   -0.3255367875099182,\n",
       "   0.7472751140594482,\n",
       "   1.145253300666809,\n",
       "   -0.4321039915084839,\n",
       "   2.042224884033203,\n",
       "   2.609894037246704,\n",
       "   0.08040677011013031,\n",
       "   0.33232581615448,\n",
       "   -0.9303401708602905,\n",
       "   -1.195591688156128,\n",
       "   0.09904903173446655,\n",
       "   0.26971447467803955,\n",
       "   1.4105080366134644,\n",
       "   -0.23254841566085815],\n",
       "  [0.7943880558013916,\n",
       "   -0.11018125712871552,\n",
       "   0.21304069459438324,\n",
       "   0.9069257378578186,\n",
       "   0.36743631958961487,\n",
       "   1.364766001701355,\n",
       "   1.5547995567321777,\n",
       "   0.6365007758140564,\n",
       "   0.11412656307220459,\n",
       "   -0.050275206565856934,\n",
       "   -0.30677711963653564,\n",
       "   0.3243517577648163,\n",
       "   0.25034672021865845,\n",
       "   1.1610039472579956,\n",
       "   -0.20351576805114746],\n",
       "  [1.0605536699295044,\n",
       "   0.61625736951828,\n",
       "   0.6986801624298096,\n",
       "   1.24776291847229,\n",
       "   -0.13686946034431458,\n",
       "   1.3199549913406372,\n",
       "   1.6159257888793945,\n",
       "   -0.1752115786075592,\n",
       "   0.9481769800186157,\n",
       "   -0.41111236810684204,\n",
       "   -1.4268364906311035,\n",
       "   0.30044713616371155,\n",
       "   0.46535229682922363,\n",
       "   0.6634026765823364,\n",
       "   -0.44524848461151123],\n",
       "  [0.6190258264541626,\n",
       "   0.3836500644683838,\n",
       "   0.7382726669311523,\n",
       "   -0.06326301395893097,\n",
       "   1.3717868328094482,\n",
       "   0.866075873374939,\n",
       "   0.2579513192176819,\n",
       "   -0.4059367775917053,\n",
       "   0.8096929788589478,\n",
       "   1.4715163707733154,\n",
       "   0.16734850406646729,\n",
       "   1.32997465133667,\n",
       "   0.4672265946865082,\n",
       "   0.36049818992614746,\n",
       "   0.6986220479011536]]]"
      ]
     },
     "execution_count": 13,
     "metadata": {},
     "output_type": "execute_result"
    }
   ],
   "source": [
    "# [x[:subset_size] for x in selected_metrics_arr]"
   ]
  }
 ],
 "metadata": {
  "kernelspec": {
   "display_name": "Python 3 (ipykernel)",
   "language": "python",
   "name": "python3"
  },
  "language_info": {
   "codemirror_mode": {
    "name": "ipython",
    "version": 3
   },
   "file_extension": ".py",
   "mimetype": "text/x-python",
   "name": "python",
   "nbconvert_exporter": "python",
   "pygments_lexer": "ipython3",
   "version": "3.11.5"
  }
 },
 "nbformat": 4,
 "nbformat_minor": 5
}
